{
  "nbformat": 4,
  "nbformat_minor": 0,
  "metadata": {
    "colab": {
      "provenance": [],
      "authorship_tag": "ABX9TyPPN9hbFUWxPDVKydaJynKl",
      "include_colab_link": true
    },
    "kernelspec": {
      "name": "python3",
      "display_name": "Python 3"
    },
    "language_info": {
      "name": "python"
    }
  },
  "cells": [
    {
      "cell_type": "markdown",
      "metadata": {
        "id": "view-in-github",
        "colab_type": "text"
      },
      "source": [
        "<a href=\"https://colab.research.google.com/github/chychur/Lineare_Regression/blob/main/Hw3.ipynb\" target=\"_parent\"><img src=\"https://colab.research.google.com/assets/colab-badge.svg\" alt=\"Open In Colab\"/></a>"
      ]
    },
    {
      "cell_type": "markdown",
      "source": [
        "#Домашня робота №3\n",
        "## Аналіз данних (лінійна регресія)\n",
        "\n",
        "Проведкмо аналіз файлу [Housing.csv](https://drive.google.com/file/d/1-rAa4XT4_fI0dOBlMNuE6a7jB0wln_Qo/view \"Будинки\"). Файл містить дані про будинки: цінуціну залежно від площі, кількості ванних кімнат, спалень.\n",
        "\n",
        "Необхідно проаналізувати датасет (використовуючи лінійну регресією) і визначити:\n",
        "\n",
        "* написати функцію гіпотези лінійної регресії у векторному вигляді;\n",
        "* створити функцію для обчислення функції втрат у векторному вигляді;\n",
        "* реалізувати один крок градієнтного спуску;\n",
        "* знайти найкращі параметри $\\vec{w}$ для датасету прогнозуючу ціну на будинок залежно від площі, кількості ванних кімнат та кількості спалень;\n",
        "* знайти ті ж параметри за допомогою аналітичного рішення;\n",
        "* порівняти отримані результати."
      ],
      "metadata": {
        "id": "Gyd2H4GfQHMm"
      }
    },
    {
      "cell_type": "code",
      "source": [
        "from google.colab import drive\n",
        "drive.mount('/content/drive')"
      ],
      "metadata": {
        "colab": {
          "base_uri": "https://localhost:8080/"
        },
        "id": "ldw0s2MpSDh8",
        "outputId": "8684c608-5a16-49f7-b893-6bbd38853d5f"
      },
      "execution_count": 1,
      "outputs": [
        {
          "output_type": "stream",
          "name": "stdout",
          "text": [
            "Mounted at /content/drive\n"
          ]
        }
      ]
    },
    {
      "cell_type": "code",
      "source": [
        "#presetings\n",
        "\n",
        "import pandas as pd\n",
        "import numpy as np\n",
        "import matplotlib.pyplot as plt\n",
        "\n",
        "\n",
        "URL = \"/content/drive/MyDrive/Colab Notebooks/Housing.csv\"\n",
        "df = pd.read_csv(URL)"
      ],
      "metadata": {
        "id": "F8YBEU7pSVwY"
      },
      "execution_count": 91,
      "outputs": []
    },
    {
      "cell_type": "code",
      "source": [
        "%pylab inline"
      ],
      "metadata": {
        "colab": {
          "base_uri": "https://localhost:8080/"
        },
        "id": "T73yAuSMjN7D",
        "outputId": "a3c8a051-ad1d-4a96-b829-b6d645c3ff08"
      },
      "execution_count": 3,
      "outputs": [
        {
          "output_type": "stream",
          "name": "stdout",
          "text": [
            "Populating the interactive namespace from numpy and matplotlib\n"
          ]
        }
      ]
    },
    {
      "cell_type": "markdown",
      "source": [
        "# 1. Валідація даних"
      ],
      "metadata": {
        "id": "XnyDxrRgVisB"
      }
    },
    {
      "cell_type": "markdown",
      "source": [
        "1.1 Прочитаємо вміст датасету."
      ],
      "metadata": {
        "id": "kuGswUPkWKpS"
      }
    },
    {
      "cell_type": "code",
      "source": [
        "df.head(5)"
      ],
      "metadata": {
        "colab": {
          "base_uri": "https://localhost:8080/",
          "height": 206
        },
        "id": "mw_WRhirWSrv",
        "outputId": "4ee58ebe-1b6e-4955-d80f-af5b4a8638f9"
      },
      "execution_count": 8,
      "outputs": [
        {
          "output_type": "execute_result",
          "data": {
            "text/plain": [
              "      price  area  bedrooms  bathrooms  stories mainroad guestroom basement  \\\n",
              "0  13300000  7420         4          2        3      yes        no       no   \n",
              "1  12250000  8960         4          4        4      yes        no       no   \n",
              "2  12250000  9960         3          2        2      yes        no      yes   \n",
              "3  12215000  7500         4          2        2      yes        no      yes   \n",
              "4  11410000  7420         4          1        2      yes       yes      yes   \n",
              "\n",
              "  hotwaterheating airconditioning  parking prefarea furnishingstatus  \n",
              "0              no             yes        2      yes        furnished  \n",
              "1              no             yes        3       no        furnished  \n",
              "2              no              no        2      yes   semi-furnished  \n",
              "3              no             yes        3      yes        furnished  \n",
              "4              no             yes        2       no        furnished  "
            ],
            "text/html": [
              "\n",
              "  <div id=\"df-b907c675-8d74-4ac1-8383-3f894f4492be\" class=\"colab-df-container\">\n",
              "    <div>\n",
              "<style scoped>\n",
              "    .dataframe tbody tr th:only-of-type {\n",
              "        vertical-align: middle;\n",
              "    }\n",
              "\n",
              "    .dataframe tbody tr th {\n",
              "        vertical-align: top;\n",
              "    }\n",
              "\n",
              "    .dataframe thead th {\n",
              "        text-align: right;\n",
              "    }\n",
              "</style>\n",
              "<table border=\"1\" class=\"dataframe\">\n",
              "  <thead>\n",
              "    <tr style=\"text-align: right;\">\n",
              "      <th></th>\n",
              "      <th>price</th>\n",
              "      <th>area</th>\n",
              "      <th>bedrooms</th>\n",
              "      <th>bathrooms</th>\n",
              "      <th>stories</th>\n",
              "      <th>mainroad</th>\n",
              "      <th>guestroom</th>\n",
              "      <th>basement</th>\n",
              "      <th>hotwaterheating</th>\n",
              "      <th>airconditioning</th>\n",
              "      <th>parking</th>\n",
              "      <th>prefarea</th>\n",
              "      <th>furnishingstatus</th>\n",
              "    </tr>\n",
              "  </thead>\n",
              "  <tbody>\n",
              "    <tr>\n",
              "      <th>0</th>\n",
              "      <td>13300000</td>\n",
              "      <td>7420</td>\n",
              "      <td>4</td>\n",
              "      <td>2</td>\n",
              "      <td>3</td>\n",
              "      <td>yes</td>\n",
              "      <td>no</td>\n",
              "      <td>no</td>\n",
              "      <td>no</td>\n",
              "      <td>yes</td>\n",
              "      <td>2</td>\n",
              "      <td>yes</td>\n",
              "      <td>furnished</td>\n",
              "    </tr>\n",
              "    <tr>\n",
              "      <th>1</th>\n",
              "      <td>12250000</td>\n",
              "      <td>8960</td>\n",
              "      <td>4</td>\n",
              "      <td>4</td>\n",
              "      <td>4</td>\n",
              "      <td>yes</td>\n",
              "      <td>no</td>\n",
              "      <td>no</td>\n",
              "      <td>no</td>\n",
              "      <td>yes</td>\n",
              "      <td>3</td>\n",
              "      <td>no</td>\n",
              "      <td>furnished</td>\n",
              "    </tr>\n",
              "    <tr>\n",
              "      <th>2</th>\n",
              "      <td>12250000</td>\n",
              "      <td>9960</td>\n",
              "      <td>3</td>\n",
              "      <td>2</td>\n",
              "      <td>2</td>\n",
              "      <td>yes</td>\n",
              "      <td>no</td>\n",
              "      <td>yes</td>\n",
              "      <td>no</td>\n",
              "      <td>no</td>\n",
              "      <td>2</td>\n",
              "      <td>yes</td>\n",
              "      <td>semi-furnished</td>\n",
              "    </tr>\n",
              "    <tr>\n",
              "      <th>3</th>\n",
              "      <td>12215000</td>\n",
              "      <td>7500</td>\n",
              "      <td>4</td>\n",
              "      <td>2</td>\n",
              "      <td>2</td>\n",
              "      <td>yes</td>\n",
              "      <td>no</td>\n",
              "      <td>yes</td>\n",
              "      <td>no</td>\n",
              "      <td>yes</td>\n",
              "      <td>3</td>\n",
              "      <td>yes</td>\n",
              "      <td>furnished</td>\n",
              "    </tr>\n",
              "    <tr>\n",
              "      <th>4</th>\n",
              "      <td>11410000</td>\n",
              "      <td>7420</td>\n",
              "      <td>4</td>\n",
              "      <td>1</td>\n",
              "      <td>2</td>\n",
              "      <td>yes</td>\n",
              "      <td>yes</td>\n",
              "      <td>yes</td>\n",
              "      <td>no</td>\n",
              "      <td>yes</td>\n",
              "      <td>2</td>\n",
              "      <td>no</td>\n",
              "      <td>furnished</td>\n",
              "    </tr>\n",
              "  </tbody>\n",
              "</table>\n",
              "</div>\n",
              "    <div class=\"colab-df-buttons\">\n",
              "\n",
              "  <div class=\"colab-df-container\">\n",
              "    <button class=\"colab-df-convert\" onclick=\"convertToInteractive('df-b907c675-8d74-4ac1-8383-3f894f4492be')\"\n",
              "            title=\"Convert this dataframe to an interactive table.\"\n",
              "            style=\"display:none;\">\n",
              "\n",
              "  <svg xmlns=\"http://www.w3.org/2000/svg\" height=\"24px\" viewBox=\"0 -960 960 960\">\n",
              "    <path d=\"M120-120v-720h720v720H120Zm60-500h600v-160H180v160Zm220 220h160v-160H400v160Zm0 220h160v-160H400v160ZM180-400h160v-160H180v160Zm440 0h160v-160H620v160ZM180-180h160v-160H180v160Zm440 0h160v-160H620v160Z\"/>\n",
              "  </svg>\n",
              "    </button>\n",
              "\n",
              "  <style>\n",
              "    .colab-df-container {\n",
              "      display:flex;\n",
              "      gap: 12px;\n",
              "    }\n",
              "\n",
              "    .colab-df-convert {\n",
              "      background-color: #E8F0FE;\n",
              "      border: none;\n",
              "      border-radius: 50%;\n",
              "      cursor: pointer;\n",
              "      display: none;\n",
              "      fill: #1967D2;\n",
              "      height: 32px;\n",
              "      padding: 0 0 0 0;\n",
              "      width: 32px;\n",
              "    }\n",
              "\n",
              "    .colab-df-convert:hover {\n",
              "      background-color: #E2EBFA;\n",
              "      box-shadow: 0px 1px 2px rgba(60, 64, 67, 0.3), 0px 1px 3px 1px rgba(60, 64, 67, 0.15);\n",
              "      fill: #174EA6;\n",
              "    }\n",
              "\n",
              "    .colab-df-buttons div {\n",
              "      margin-bottom: 4px;\n",
              "    }\n",
              "\n",
              "    [theme=dark] .colab-df-convert {\n",
              "      background-color: #3B4455;\n",
              "      fill: #D2E3FC;\n",
              "    }\n",
              "\n",
              "    [theme=dark] .colab-df-convert:hover {\n",
              "      background-color: #434B5C;\n",
              "      box-shadow: 0px 1px 3px 1px rgba(0, 0, 0, 0.15);\n",
              "      filter: drop-shadow(0px 1px 2px rgba(0, 0, 0, 0.3));\n",
              "      fill: #FFFFFF;\n",
              "    }\n",
              "  </style>\n",
              "\n",
              "    <script>\n",
              "      const buttonEl =\n",
              "        document.querySelector('#df-b907c675-8d74-4ac1-8383-3f894f4492be button.colab-df-convert');\n",
              "      buttonEl.style.display =\n",
              "        google.colab.kernel.accessAllowed ? 'block' : 'none';\n",
              "\n",
              "      async function convertToInteractive(key) {\n",
              "        const element = document.querySelector('#df-b907c675-8d74-4ac1-8383-3f894f4492be');\n",
              "        const dataTable =\n",
              "          await google.colab.kernel.invokeFunction('convertToInteractive',\n",
              "                                                    [key], {});\n",
              "        if (!dataTable) return;\n",
              "\n",
              "        const docLinkHtml = 'Like what you see? Visit the ' +\n",
              "          '<a target=\"_blank\" href=https://colab.research.google.com/notebooks/data_table.ipynb>data table notebook</a>'\n",
              "          + ' to learn more about interactive tables.';\n",
              "        element.innerHTML = '';\n",
              "        dataTable['output_type'] = 'display_data';\n",
              "        await google.colab.output.renderOutput(dataTable, element);\n",
              "        const docLink = document.createElement('div');\n",
              "        docLink.innerHTML = docLinkHtml;\n",
              "        element.appendChild(docLink);\n",
              "      }\n",
              "    </script>\n",
              "  </div>\n",
              "\n",
              "\n",
              "<div id=\"df-7a37e338-fcda-4799-a80d-ddde5fde5195\">\n",
              "  <button class=\"colab-df-quickchart\" onclick=\"quickchart('df-7a37e338-fcda-4799-a80d-ddde5fde5195')\"\n",
              "            title=\"Suggest charts\"\n",
              "            style=\"display:none;\">\n",
              "\n",
              "<svg xmlns=\"http://www.w3.org/2000/svg\" height=\"24px\"viewBox=\"0 0 24 24\"\n",
              "     width=\"24px\">\n",
              "    <g>\n",
              "        <path d=\"M19 3H5c-1.1 0-2 .9-2 2v14c0 1.1.9 2 2 2h14c1.1 0 2-.9 2-2V5c0-1.1-.9-2-2-2zM9 17H7v-7h2v7zm4 0h-2V7h2v10zm4 0h-2v-4h2v4z\"/>\n",
              "    </g>\n",
              "</svg>\n",
              "  </button>\n",
              "\n",
              "<style>\n",
              "  .colab-df-quickchart {\n",
              "      --bg-color: #E8F0FE;\n",
              "      --fill-color: #1967D2;\n",
              "      --hover-bg-color: #E2EBFA;\n",
              "      --hover-fill-color: #174EA6;\n",
              "      --disabled-fill-color: #AAA;\n",
              "      --disabled-bg-color: #DDD;\n",
              "  }\n",
              "\n",
              "  [theme=dark] .colab-df-quickchart {\n",
              "      --bg-color: #3B4455;\n",
              "      --fill-color: #D2E3FC;\n",
              "      --hover-bg-color: #434B5C;\n",
              "      --hover-fill-color: #FFFFFF;\n",
              "      --disabled-bg-color: #3B4455;\n",
              "      --disabled-fill-color: #666;\n",
              "  }\n",
              "\n",
              "  .colab-df-quickchart {\n",
              "    background-color: var(--bg-color);\n",
              "    border: none;\n",
              "    border-radius: 50%;\n",
              "    cursor: pointer;\n",
              "    display: none;\n",
              "    fill: var(--fill-color);\n",
              "    height: 32px;\n",
              "    padding: 0;\n",
              "    width: 32px;\n",
              "  }\n",
              "\n",
              "  .colab-df-quickchart:hover {\n",
              "    background-color: var(--hover-bg-color);\n",
              "    box-shadow: 0 1px 2px rgba(60, 64, 67, 0.3), 0 1px 3px 1px rgba(60, 64, 67, 0.15);\n",
              "    fill: var(--button-hover-fill-color);\n",
              "  }\n",
              "\n",
              "  .colab-df-quickchart-complete:disabled,\n",
              "  .colab-df-quickchart-complete:disabled:hover {\n",
              "    background-color: var(--disabled-bg-color);\n",
              "    fill: var(--disabled-fill-color);\n",
              "    box-shadow: none;\n",
              "  }\n",
              "\n",
              "  .colab-df-spinner {\n",
              "    border: 2px solid var(--fill-color);\n",
              "    border-color: transparent;\n",
              "    border-bottom-color: var(--fill-color);\n",
              "    animation:\n",
              "      spin 1s steps(1) infinite;\n",
              "  }\n",
              "\n",
              "  @keyframes spin {\n",
              "    0% {\n",
              "      border-color: transparent;\n",
              "      border-bottom-color: var(--fill-color);\n",
              "      border-left-color: var(--fill-color);\n",
              "    }\n",
              "    20% {\n",
              "      border-color: transparent;\n",
              "      border-left-color: var(--fill-color);\n",
              "      border-top-color: var(--fill-color);\n",
              "    }\n",
              "    30% {\n",
              "      border-color: transparent;\n",
              "      border-left-color: var(--fill-color);\n",
              "      border-top-color: var(--fill-color);\n",
              "      border-right-color: var(--fill-color);\n",
              "    }\n",
              "    40% {\n",
              "      border-color: transparent;\n",
              "      border-right-color: var(--fill-color);\n",
              "      border-top-color: var(--fill-color);\n",
              "    }\n",
              "    60% {\n",
              "      border-color: transparent;\n",
              "      border-right-color: var(--fill-color);\n",
              "    }\n",
              "    80% {\n",
              "      border-color: transparent;\n",
              "      border-right-color: var(--fill-color);\n",
              "      border-bottom-color: var(--fill-color);\n",
              "    }\n",
              "    90% {\n",
              "      border-color: transparent;\n",
              "      border-bottom-color: var(--fill-color);\n",
              "    }\n",
              "  }\n",
              "</style>\n",
              "\n",
              "  <script>\n",
              "    async function quickchart(key) {\n",
              "      const quickchartButtonEl =\n",
              "        document.querySelector('#' + key + ' button');\n",
              "      quickchartButtonEl.disabled = true;  // To prevent multiple clicks.\n",
              "      quickchartButtonEl.classList.add('colab-df-spinner');\n",
              "      try {\n",
              "        const charts = await google.colab.kernel.invokeFunction(\n",
              "            'suggestCharts', [key], {});\n",
              "      } catch (error) {\n",
              "        console.error('Error during call to suggestCharts:', error);\n",
              "      }\n",
              "      quickchartButtonEl.classList.remove('colab-df-spinner');\n",
              "      quickchartButtonEl.classList.add('colab-df-quickchart-complete');\n",
              "    }\n",
              "    (() => {\n",
              "      let quickchartButtonEl =\n",
              "        document.querySelector('#df-7a37e338-fcda-4799-a80d-ddde5fde5195 button');\n",
              "      quickchartButtonEl.style.display =\n",
              "        google.colab.kernel.accessAllowed ? 'block' : 'none';\n",
              "    })();\n",
              "  </script>\n",
              "</div>\n",
              "    </div>\n",
              "  </div>\n"
            ]
          },
          "metadata": {},
          "execution_count": 8
        }
      ]
    },
    {
      "cell_type": "markdown",
      "source": [
        "1.2 Визначимо розмір датасету."
      ],
      "metadata": {
        "id": "xn6l4Y48WX7L"
      }
    },
    {
      "cell_type": "code",
      "source": [
        "df.shape"
      ],
      "metadata": {
        "colab": {
          "base_uri": "https://localhost:8080/"
        },
        "id": "-2uhdVe7WeC3",
        "outputId": "896ef86e-0e15-4f41-8408-d20415445948"
      },
      "execution_count": 5,
      "outputs": [
        {
          "output_type": "execute_result",
          "data": {
            "text/plain": [
              "(545, 13)"
            ]
          },
          "metadata": {},
          "execution_count": 5
        }
      ]
    },
    {
      "cell_type": "markdown",
      "source": [
        "1.3 Визначимо типи данних датасету."
      ],
      "metadata": {
        "id": "pJyGQfQ4Wi4h"
      }
    },
    {
      "cell_type": "code",
      "source": [
        "df.dtypes"
      ],
      "metadata": {
        "colab": {
          "base_uri": "https://localhost:8080/"
        },
        "id": "iY2AsT72WqTT",
        "outputId": "30371c2e-7e21-4c2d-b8a6-15ebafa75026"
      },
      "execution_count": 6,
      "outputs": [
        {
          "output_type": "execute_result",
          "data": {
            "text/plain": [
              "price                int64\n",
              "area                 int64\n",
              "bedrooms             int64\n",
              "bathrooms            int64\n",
              "stories              int64\n",
              "mainroad            object\n",
              "guestroom           object\n",
              "basement            object\n",
              "hotwaterheating     object\n",
              "airconditioning     object\n",
              "parking              int64\n",
              "prefarea            object\n",
              "furnishingstatus    object\n",
              "dtype: object"
            ]
          },
          "metadata": {},
          "execution_count": 6
        }
      ]
    },
    {
      "cell_type": "markdown",
      "source": [
        "1.4 Визначимо частку пропусків в датасеті."
      ],
      "metadata": {
        "id": "5G6TdeNUXAcD"
      }
    },
    {
      "cell_type": "code",
      "source": [
        "missing_prc = df.apply(lambda column: column.isnull().sum() / len(df) * 100)\n",
        "missing_prc"
      ],
      "metadata": {
        "colab": {
          "base_uri": "https://localhost:8080/"
        },
        "id": "UQ8vhW3nXEmO",
        "outputId": "c05c7237-e450-464d-8d73-32b94f903f88"
      },
      "execution_count": 7,
      "outputs": [
        {
          "output_type": "execute_result",
          "data": {
            "text/plain": [
              "price               0.0\n",
              "area                0.0\n",
              "bedrooms            0.0\n",
              "bathrooms           0.0\n",
              "stories             0.0\n",
              "mainroad            0.0\n",
              "guestroom           0.0\n",
              "basement            0.0\n",
              "hotwaterheating     0.0\n",
              "airconditioning     0.0\n",
              "parking             0.0\n",
              "prefarea            0.0\n",
              "furnishingstatus    0.0\n",
              "dtype: float64"
            ]
          },
          "metadata": {},
          "execution_count": 7
        }
      ]
    },
    {
      "cell_type": "markdown",
      "source": [
        "1.5 Зобразимо данні з датасету в залежності ціна - площа (`price` - `area`)"
      ],
      "metadata": {
        "id": "5oJzHUa7Qarl"
      }
    },
    {
      "cell_type": "code",
      "source": [
        "df.plot(x='area', y='price', kind='scatter', figsize=(12,8))"
      ],
      "metadata": {
        "colab": {
          "base_uri": "https://localhost:8080/",
          "height": 728
        },
        "id": "daO47Krc3KVY",
        "outputId": "cb801e71-5514-46cb-b02c-8b046059ed4d"
      },
      "execution_count": null,
      "outputs": [
        {
          "output_type": "execute_result",
          "data": {
            "text/plain": [
              "<Axes: xlabel='area', ylabel='price'>"
            ]
          },
          "metadata": {},
          "execution_count": 9
        },
        {
          "output_type": "display_data",
          "data": {
            "text/plain": [
              "<Figure size 1200x800 with 1 Axes>"
            ],
            "image/png": "[encoded data removed]"
          },
          "metadata": {}
        }
      ]
    },
    {
      "cell_type": "markdown",
      "source": [
        "1.6 ВИСНОВОК: датасет без пропусків, розміром 13 колонок і 545 строчок, з відповідними типами данних, що допустимі для подальшої обробки."
      ],
      "metadata": {
        "id": "s2mRTYyQXKmn"
      }
    },
    {
      "cell_type": "markdown",
      "source": [
        "# 2. Функція гіпотези лінійної регресії у векторному вигляді"
      ],
      "metadata": {
        "id": "RilMZOwmXUwI"
      }
    },
    {
      "cell_type": "markdown",
      "source": [
        "2.1 Лінійна регресія. Вступ.\n",
        "\n",
        "Для знаходження рівняння прямої (лінії), яка буде найкраще описувати залежність між двома величинами введемо такі позначення:\n",
        "\n",
        "* $x^{(i)}$ - ознака (feature) $i$-ого прикладу (sample, example) з нашого датасету, також відома яка вхідна змінна;\n",
        "* $y^{(i)}$ - цільове значення для $i$-ого прикладу, чи вихідне значення (target, output value);\n",
        "* $(x^{(i)},y^{(i)})$ - $i$-ий навчальний приклад, де $i=1...m$ - множина навчальних даних, чи training set, а $m$ - кількість прикладів у цій множині.\n",
        "\n",
        "Тепер гіпотезу лінійної регресії, що описує залежність між двома величинами можна сформулювати так:\n",
        "\n",
        "$$h(x) = w_{0} + w_{1} * x$$\n",
        "\n",
        "де, $w_0$ та $w_1$ $-$ коефіцієнти ваги.\n",
        "\n",
        "А для більш точної і складної моделі, в якій присутні кілька параметрів скористаємось лінійною регресією з багатьма змінними. Тоді наші дані будуть мати інший вигляд:\n",
        "\n",
        "\n",
        "*   $x^{(i)}$ - $j$-а ознака (фіча) $i$-ого прикладу (sample, example) з нашого датасету;\n",
        "*   $\\vec{x}^{(i)}$ - вектор ознак для $i$-ого прикладу, і тепер це буде наш вхідний вектор значень;\n",
        "* $m$ - кількість прикладів у нашому датасеті;\n",
        "* $n$ - кількість ознак для прикладів у датасеті.\n",
        "\n",
        "Отже, нова гіпотеза буде мати такий вигляд:\n",
        "\n",
        "$$h(\\vec{x})=w_{0} + w_{1}x_{1} + w_{2}x_{2} +w_{3}x_{3} + ... + w_{n}x_{n}$$\n",
        "\n",
        "Введемо додаткову ознаку $x_{0}=1$, щоб ввести позначення вектора вагів та повний вектор ознак:\n",
        "\n",
        "$$\\vec{x}=\n",
        "\\begin{pmatrix}\n",
        "1 \\\\ x_{1} \\\\ x_{2} \\\\ x_{3} \\\\ ... \\\\ x_{n}\n",
        "\\end{pmatrix},\n",
        "\\hspace{1cm}\n",
        "\\vec{w}=\n",
        "\\begin{pmatrix}\n",
        "w_{0} \\\\ w_{1} \\\\ w_{2} \\\\ w_{3} \\\\ ... \\\\ w_{n}\n",
        "\\end{pmatrix}\n",
        "\\hspace{1cm}\n",
        "$$\n",
        "\n",
        "​\n",
        "\n",
        "І перепишемо гіпотезу у векторному вигляді, оскільки це буде просто скалярний добуток вектору вагів на вектор ознак:\n",
        "\n",
        "\n",
        "$$h(\\vec{x})=\\vec{w}*\\vec{x}$$\n",
        "\n",
        "Для знаходження оптимальних значень коефіцієнтів $\\vec{w}$ скористаємось *методом градієнтного спуску*. Вектор-градієнт функції втрат (`loss_func`) буде мати такий вигляд:\n",
        "\n",
        "$$\\nabla{J}(\\vec{w})=\n",
        "\\begin{pmatrix}\n",
        "\\frac{\\partial{J}(\\vec{w})}{\\partial{w_{0}}} \\\\\n",
        "\\frac{\\partial{J}(\\vec{w})}{\\partial{w_{1}}} \\\\\n",
        "\\frac{\\partial{J}(\\vec{w})}{\\partial{w_{2}}} \\\\\n",
        "\\vdots \\\\\n",
        "\\frac{\\partial{J}(\\vec{w})}{\\partial{w_{n}}}\n",
        "\\end{pmatrix}\n",
        "\\hspace{0.5cm}=\n",
        "\\begin{pmatrix}\n",
        "\\frac{1}{m}\\sum^m_{i=1}(h(x^{(i)})-y^{(i)}) \\\\\n",
        "\\frac{1}{m}\\sum^m_{i=1}(h(x^{(i)})-y^{(i)})*x^{(i)}_{1} \\\\\n",
        "\\frac{1}{m}\\sum^m_{i=1}(h(x^{(i)})-y^{(i)})*x^{(i)}_{2} \\\\\n",
        "\\vdots \\\\\n",
        "\\frac{1}{m}\\sum^m_{i=1}(h(x^{(i)})-y^{(i)})*x^{(i)}_{n}\n",
        "\\end{pmatrix},\n",
        "\\hspace{1cm}$$\n",
        "\n",
        "Відповідно, одна ітерація навчання моделі, чи *крок градієнтного спуску* буде мати такий вигляд:\n",
        "\n",
        "$$\\vec{w}=\\vec{w}^{prev}- \\alpha\\nabla{J}(\\vec{w})$$\n",
        "\n",
        "Проте, для простоти, можна вивести матрицю значень нашого датасету, що дає змогу робити векторні обчислення, замість сумування циклами:\n",
        "\n",
        "$$X=\n",
        "\\begin{bmatrix}\n",
        " 1 & x^{(1)}_{1} & x^{(1)}_{2} & x^{(1)}_{3} & \\cdots & x^{(1)}_{n}\\\\\n",
        " 1 & x^{(2)}_{1} & x^{(2)}_{2} & x^{(2)}_{3} & \\cdots & x^{(2)}_{n}\\\\\n",
        " 1 & x^{(3)}_{1} & x^{(3)}_{2} & x^{(3)}_{3} & \\cdots & x^{(3)}_{n}\\\\\n",
        " \\vdots & \\vdots & \\vdots & \\vdots & \\ddots & \\vdots \\\\\n",
        " 1 & x^{(m)}_{1} & x^{(m)}_{2} & x^{(m)}_{3} & \\cdots & x^{(m)}_{n}\\\\  \n",
        "\\end{bmatrix}\n",
        "$$\n",
        "\n",
        "Тоді матимемо такі формули для обчислень:\n",
        "\n",
        "$$\\nabla{J}(\\vec{w})=\\frac{1}{m}X^T(X\\vec{w}-\\vec{y})$$\n",
        "\n",
        "Якщо переписати гіпотезу у матричному вигляді:\n",
        "\n",
        "$$\\vec{h}(X)=X\\vec{w}$$\n",
        "\n",
        "і порівнявши отримані значення з вектором цільових значень, то отримаємо матричне рівняння $y=Xw$, розвязавши яке, отримаємо аналітичне рішення:\n",
        "\n",
        "$$\\vec{w^*}=(X^TX)^{-1}X^T\\vec{y}$$\n",
        "\n",
        "де, вираз $(X^TX)^{-1}X^T\\vec{y}$ - *псевдообернена матриця*. Для знаходження рішення, необхідно обчислювати зворотну матрицю на що буде потрібно порядку $k^{3}$ операцій при квадратній матриці розміру $k$. На реальних даних це досить невигідно. Крім того, якщо матриця погано обумовлена, ми не можемо використовувати чисельні методи обернення. Тому вирішення задачі мінімізації функції помилки знаходять за допомогою методів оптимізації, як градієнтний спуск."
      ],
      "metadata": {
        "id": "N6Cix2uBRQ7S"
      }
    },
    {
      "cell_type": "markdown",
      "source": [
        "2.2 Виберемо параметри `features` (відповідно до умови задачі це - `area`, `bedrooms` та `bathrooms`), від яких залежить значення ціни будинку `price`."
      ],
      "metadata": {
        "id": "okNxBCetW0FK"
      }
    },
    {
      "cell_type": "code",
      "source": [
        "features = ['area', 'bedrooms','bathrooms']"
      ],
      "metadata": {
        "id": "kR03umbcXpQD"
      },
      "execution_count": 14,
      "outputs": []
    },
    {
      "cell_type": "markdown",
      "source": [
        "2.3 Створимо новий датасет `X`, що є вхідним вектором значень з векторами ознак для $i$-ого прикладу."
      ],
      "metadata": {
        "id": "icfcZDJtYMmQ"
      }
    },
    {
      "cell_type": "code",
      "source": [
        "X = df[features].values\n",
        "X"
      ],
      "metadata": {
        "colab": {
          "base_uri": "https://localhost:8080/"
        },
        "id": "qvwm-REdZE3o",
        "outputId": "1baae868-c12e-46e5-b58e-df4a238e52f6"
      },
      "execution_count": 15,
      "outputs": [
        {
          "output_type": "execute_result",
          "data": {
            "text/plain": [
              "array([[7420,    4,    2],\n",
              "       [8960,    4,    4],\n",
              "       [9960,    3,    2],\n",
              "       ...,\n",
              "       [3620,    2,    1],\n",
              "       [2910,    3,    1],\n",
              "       [3850,    3,    1]])"
            ]
          },
          "metadata": {},
          "execution_count": 15
        }
      ]
    },
    {
      "cell_type": "markdown",
      "source": [
        "2.4 Створимо проміжний вектор `X_one` з ознакою $x_0=1$"
      ],
      "metadata": {
        "id": "cHJ4mRZXVnr3"
      }
    },
    {
      "cell_type": "code",
      "source": [
        "X_one = np.ones((X.shape[0], 1))\n",
        "X_one[:6]"
      ],
      "metadata": {
        "colab": {
          "base_uri": "https://localhost:8080/"
        },
        "id": "oreJPwePZ3EZ",
        "outputId": "390eb655-6eff-4af5-ba6c-8faede3c3a1c"
      },
      "execution_count": 20,
      "outputs": [
        {
          "output_type": "execute_result",
          "data": {
            "text/plain": [
              "array([[1.],\n",
              "       [1.],\n",
              "       [1.],\n",
              "       [1.],\n",
              "       [1.],\n",
              "       [1.]])"
            ]
          },
          "metadata": {},
          "execution_count": 20
        }
      ]
    },
    {
      "cell_type": "markdown",
      "source": [
        "2.5 Доповнимо вектор вхідних значень (`X`) вектором (`X_one`), що містить додаткові значення $x_{0}=1$ для $i$-го прикладу."
      ],
      "metadata": {
        "id": "Xayo02b2aj6J"
      }
    },
    {
      "cell_type": "code",
      "source": [
        "X = np.concatenate((X_one, X), axis=1).astype('int64')\n",
        "X"
      ],
      "metadata": {
        "colab": {
          "base_uri": "https://localhost:8080/"
        },
        "id": "EXuWgfcpbK44",
        "outputId": "57d5c5e4-0c28-4cf6-e1a2-ed5b0f61be66"
      },
      "execution_count": 21,
      "outputs": [
        {
          "output_type": "execute_result",
          "data": {
            "text/plain": [
              "array([[   1, 7420,    4,    2],\n",
              "       [   1, 8960,    4,    4],\n",
              "       [   1, 9960,    3,    2],\n",
              "       ...,\n",
              "       [   1, 3620,    2,    1],\n",
              "       [   1, 2910,    3,    1],\n",
              "       [   1, 3850,    3,    1]])"
            ]
          },
          "metadata": {},
          "execution_count": 21
        }
      ]
    },
    {
      "cell_type": "markdown",
      "source": [
        "2.6 Створимо вектор цільових значень `y`."
      ],
      "metadata": {
        "id": "ztaMiB-uh36e"
      }
    },
    {
      "cell_type": "code",
      "source": [
        "y = df[\"price\"].values.reshape(-1, 1)\n",
        "y[:6]"
      ],
      "metadata": {
        "colab": {
          "base_uri": "https://localhost:8080/"
        },
        "id": "8feFs_NiioMr",
        "outputId": "424f0ec4-a94c-44b2-a449-34771376ead3"
      },
      "execution_count": 26,
      "outputs": [
        {
          "output_type": "execute_result",
          "data": {
            "text/plain": [
              "array([[13300000],\n",
              "       [12250000],\n",
              "       [12250000],\n",
              "       [12215000],\n",
              "       [11410000],\n",
              "       [10850000]])"
            ]
          },
          "metadata": {},
          "execution_count": 26
        }
      ]
    },
    {
      "cell_type": "markdown",
      "source": [
        "2.7 Створимо матрицю початкових ваг `theta`."
      ],
      "metadata": {
        "id": "s1dpl-pNjVGN"
      }
    },
    {
      "cell_type": "code",
      "source": [
        "theta = np.zeros((X.shape[1], 1))\n",
        "theta"
      ],
      "metadata": {
        "colab": {
          "base_uri": "https://localhost:8080/"
        },
        "id": "ISWRB1FojmwF",
        "outputId": "aac5e3ff-195e-4bb8-eee5-527abcaaecf1"
      },
      "execution_count": 41,
      "outputs": [
        {
          "output_type": "execute_result",
          "data": {
            "text/plain": [
              "array([[0.],\n",
              "       [0.],\n",
              "       [0.],\n",
              "       [0.]])"
            ]
          },
          "metadata": {},
          "execution_count": 41
        }
      ]
    },
    {
      "cell_type": "markdown",
      "source": [
        "2.8 Визначимо функцію гіпотези лінійної регресії `hipotesis`, як раніше зазначено, це буде скалярний добуток вектору вагів $\\vec{w}$ на вектор ознак $\\vec{x}$:"
      ],
      "metadata": {
        "id": "WblruCt3kDJ9"
      }
    },
    {
      "cell_type": "code",
      "source": [
        "def hypothesis(theta, X):\n",
        "    return np.dot(X, theta)"
      ],
      "metadata": {
        "id": "4JO49StQkOdc"
      },
      "execution_count": 30,
      "outputs": []
    },
    {
      "cell_type": "markdown",
      "source": [
        "2.9 Визначимо функцію втрат `loss_func`, що приймає матрицю початкових ваг `theta`, вектор вхідних значень `X` та вектор цільових значнь `y`:"
      ],
      "metadata": {
        "id": "YxkRo2SckY7h"
      }
    },
    {
      "cell_type": "code",
      "source": [
        "def loss_func(theta, X, y):\n",
        "    m = len(y)\n",
        "    predictions = hypothesis(theta, X)\n",
        "    return (1 / (2 * m)) * np.sum(np.square(predictions - y))"
      ],
      "metadata": {
        "id": "U5fvXGFwkZcW"
      },
      "execution_count": 32,
      "outputs": []
    },
    {
      "cell_type": "markdown",
      "source": [
        "2.10 Визначимо крок градієнтного спуску `grad_step`:"
      ],
      "metadata": {
        "id": "ZYUDLyYRkksM"
      }
    },
    {
      "cell_type": "code",
      "source": [
        "def grad_step(theta, X, y, learning_rate):\n",
        "    m = len(y)\n",
        "    predictions = hypothesis(theta, X)\n",
        "    error = predictions - y\n",
        "    gradient = (1 / m) * np.dot(X.T, error)\n",
        "    theta -= learning_rate * gradient\n",
        "    return theta"
      ],
      "metadata": {
        "id": "dv_RoiHUklOF"
      },
      "execution_count": 33,
      "outputs": []
    },
    {
      "cell_type": "markdown",
      "source": [
        "# 3. Навчання моделі"
      ],
      "metadata": {
        "id": "3Xvf7SqK9NAk"
      }
    },
    {
      "cell_type": "markdown",
      "source": [
        "3.1 Визначимо папметри навчання моделі:\n",
        "`learning_rate` - крок навчання (крок градієнтного спуску) `num_iterations` - кількість ітерацій."
      ],
      "metadata": {
        "id": "YQ_oDEt2EB-C"
      }
    },
    {
      "cell_type": "code",
      "source": [
        "learning_rate = 0.0000000001\n",
        "num_iterations = 1000"
      ],
      "metadata": {
        "id": "lFoItjzWErMY"
      },
      "execution_count": 86,
      "outputs": []
    },
    {
      "cell_type": "markdown",
      "source": [
        "3.2 Виконаємо навчання моделі, покроково, методом градієнтного спуску, для цього використаємо функцію одного кроку градієнтного спуску `grad_step` для знаходження вектору вагів $\\vec{w}$ та функцію втрат `loss_func` на кожній ітерації. Для зручності, запишемо результати в новий датафрейм `loss_h` і виведемо кожне 50-е значення."
      ],
      "metadata": {
        "id": "zTcJ6b3kFVUX"
      }
    },
    {
      "cell_type": "code",
      "source": [
        "loss_history = []\n",
        "\n",
        "for i in range(num_iterations):\n",
        "    theta = grad_step(theta, X, y, learning_rate)\n",
        "\n",
        "    loss = loss_func(theta, X, y)\n",
        "    loss_history.append(loss)\n",
        "\n",
        "loss_h = pd.DataFrame(loss_history, columns=['Loss_value'])"
      ],
      "metadata": {
        "id": "BY5-o_3xFnX0"
      },
      "execution_count": 92,
      "outputs": []
    },
    {
      "cell_type": "code",
      "source": [
        "loss_h[::50]"
      ],
      "metadata": {
        "colab": {
          "base_uri": "https://localhost:8080/",
          "height": 677
        },
        "id": "aFfaJmrnITgU",
        "outputId": "9defea50-78ee-4069-88ac-01398a03a7be"
      },
      "execution_count": 54,
      "outputs": [
        {
          "output_type": "execute_result",
          "data": {
            "text/plain": [
              "       Loss_value\n",
              "0    1.673380e+12\n",
              "50   1.673380e+12\n",
              "100  1.673380e+12\n",
              "150  1.673380e+12\n",
              "200  1.673380e+12\n",
              "250  1.673380e+12\n",
              "300  1.673380e+12\n",
              "350  1.673380e+12\n",
              "400  1.673380e+12\n",
              "450  1.673380e+12\n",
              "500  1.673380e+12\n",
              "550  1.673380e+12\n",
              "600  1.673380e+12\n",
              "650  1.673380e+12\n",
              "700  1.673380e+12\n",
              "750  1.673380e+12\n",
              "800  1.673380e+12\n",
              "850  1.673380e+12\n",
              "900  1.673380e+12\n",
              "950  1.673380e+12"
            ],
            "text/html": [
              "\n",
              "  <div id=\"df-5ee10215-76c8-40f8-b846-4d13997b6309\" class=\"colab-df-container\">\n",
              "    <div>\n",
              "<style scoped>\n",
              "    .dataframe tbody tr th:only-of-type {\n",
              "        vertical-align: middle;\n",
              "    }\n",
              "\n",
              "    .dataframe tbody tr th {\n",
              "        vertical-align: top;\n",
              "    }\n",
              "\n",
              "    .dataframe thead th {\n",
              "        text-align: right;\n",
              "    }\n",
              "</style>\n",
              "<table border=\"1\" class=\"dataframe\">\n",
              "  <thead>\n",
              "    <tr style=\"text-align: right;\">\n",
              "      <th></th>\n",
              "      <th>Loss_value</th>\n",
              "    </tr>\n",
              "  </thead>\n",
              "  <tbody>\n",
              "    <tr>\n",
              "      <th>0</th>\n",
              "      <td>1.673380e+12</td>\n",
              "    </tr>\n",
              "    <tr>\n",
              "      <th>50</th>\n",
              "      <td>1.673380e+12</td>\n",
              "    </tr>\n",
              "    <tr>\n",
              "      <th>100</th>\n",
              "      <td>1.673380e+12</td>\n",
              "    </tr>\n",
              "    <tr>\n",
              "      <th>150</th>\n",
              "      <td>1.673380e+12</td>\n",
              "    </tr>\n",
              "    <tr>\n",
              "      <th>200</th>\n",
              "      <td>1.673380e+12</td>\n",
              "    </tr>\n",
              "    <tr>\n",
              "      <th>250</th>\n",
              "      <td>1.673380e+12</td>\n",
              "    </tr>\n",
              "    <tr>\n",
              "      <th>300</th>\n",
              "      <td>1.673380e+12</td>\n",
              "    </tr>\n",
              "    <tr>\n",
              "      <th>350</th>\n",
              "      <td>1.673380e+12</td>\n",
              "    </tr>\n",
              "    <tr>\n",
              "      <th>400</th>\n",
              "      <td>1.673380e+12</td>\n",
              "    </tr>\n",
              "    <tr>\n",
              "      <th>450</th>\n",
              "      <td>1.673380e+12</td>\n",
              "    </tr>\n",
              "    <tr>\n",
              "      <th>500</th>\n",
              "      <td>1.673380e+12</td>\n",
              "    </tr>\n",
              "    <tr>\n",
              "      <th>550</th>\n",
              "      <td>1.673380e+12</td>\n",
              "    </tr>\n",
              "    <tr>\n",
              "      <th>600</th>\n",
              "      <td>1.673380e+12</td>\n",
              "    </tr>\n",
              "    <tr>\n",
              "      <th>650</th>\n",
              "      <td>1.673380e+12</td>\n",
              "    </tr>\n",
              "    <tr>\n",
              "      <th>700</th>\n",
              "      <td>1.673380e+12</td>\n",
              "    </tr>\n",
              "    <tr>\n",
              "      <th>750</th>\n",
              "      <td>1.673380e+12</td>\n",
              "    </tr>\n",
              "    <tr>\n",
              "      <th>800</th>\n",
              "      <td>1.673380e+12</td>\n",
              "    </tr>\n",
              "    <tr>\n",
              "      <th>850</th>\n",
              "      <td>1.673380e+12</td>\n",
              "    </tr>\n",
              "    <tr>\n",
              "      <th>900</th>\n",
              "      <td>1.673380e+12</td>\n",
              "    </tr>\n",
              "    <tr>\n",
              "      <th>950</th>\n",
              "      <td>1.673380e+12</td>\n",
              "    </tr>\n",
              "  </tbody>\n",
              "</table>\n",
              "</div>\n",
              "    <div class=\"colab-df-buttons\">\n",
              "\n",
              "  <div class=\"colab-df-container\">\n",
              "    <button class=\"colab-df-convert\" onclick=\"convertToInteractive('df-5ee10215-76c8-40f8-b846-4d13997b6309')\"\n",
              "            title=\"Convert this dataframe to an interactive table.\"\n",
              "            style=\"display:none;\">\n",
              "\n",
              "  <svg xmlns=\"http://www.w3.org/2000/svg\" height=\"24px\" viewBox=\"0 -960 960 960\">\n",
              "    <path d=\"M120-120v-720h720v720H120Zm60-500h600v-160H180v160Zm220 220h160v-160H400v160Zm0 220h160v-160H400v160ZM180-400h160v-160H180v160Zm440 0h160v-160H620v160ZM180-180h160v-160H180v160Zm440 0h160v-160H620v160Z\"/>\n",
              "  </svg>\n",
              "    </button>\n",
              "\n",
              "  <style>\n",
              "    .colab-df-container {\n",
              "      display:flex;\n",
              "      gap: 12px;\n",
              "    }\n",
              "\n",
              "    .colab-df-convert {\n",
              "      background-color: #E8F0FE;\n",
              "      border: none;\n",
              "      border-radius: 50%;\n",
              "      cursor: pointer;\n",
              "      display: none;\n",
              "      fill: #1967D2;\n",
              "      height: 32px;\n",
              "      padding: 0 0 0 0;\n",
              "      width: 32px;\n",
              "    }\n",
              "\n",
              "    .colab-df-convert:hover {\n",
              "      background-color: #E2EBFA;\n",
              "      box-shadow: 0px 1px 2px rgba(60, 64, 67, 0.3), 0px 1px 3px 1px rgba(60, 64, 67, 0.15);\n",
              "      fill: #174EA6;\n",
              "    }\n",
              "\n",
              "    .colab-df-buttons div {\n",
              "      margin-bottom: 4px;\n",
              "    }\n",
              "\n",
              "    [theme=dark] .colab-df-convert {\n",
              "      background-color: #3B4455;\n",
              "      fill: #D2E3FC;\n",
              "    }\n",
              "\n",
              "    [theme=dark] .colab-df-convert:hover {\n",
              "      background-color: #434B5C;\n",
              "      box-shadow: 0px 1px 3px 1px rgba(0, 0, 0, 0.15);\n",
              "      filter: drop-shadow(0px 1px 2px rgba(0, 0, 0, 0.3));\n",
              "      fill: #FFFFFF;\n",
              "    }\n",
              "  </style>\n",
              "\n",
              "    <script>\n",
              "      const buttonEl =\n",
              "        document.querySelector('#df-5ee10215-76c8-40f8-b846-4d13997b6309 button.colab-df-convert');\n",
              "      buttonEl.style.display =\n",
              "        google.colab.kernel.accessAllowed ? 'block' : 'none';\n",
              "\n",
              "      async function convertToInteractive(key) {\n",
              "        const element = document.querySelector('#df-5ee10215-76c8-40f8-b846-4d13997b6309');\n",
              "        const dataTable =\n",
              "          await google.colab.kernel.invokeFunction('convertToInteractive',\n",
              "                                                    [key], {});\n",
              "        if (!dataTable) return;\n",
              "\n",
              "        const docLinkHtml = 'Like what you see? Visit the ' +\n",
              "          '<a target=\"_blank\" href=https://colab.research.google.com/notebooks/data_table.ipynb>data table notebook</a>'\n",
              "          + ' to learn more about interactive tables.';\n",
              "        element.innerHTML = '';\n",
              "        dataTable['output_type'] = 'display_data';\n",
              "        await google.colab.output.renderOutput(dataTable, element);\n",
              "        const docLink = document.createElement('div');\n",
              "        docLink.innerHTML = docLinkHtml;\n",
              "        element.appendChild(docLink);\n",
              "      }\n",
              "    </script>\n",
              "  </div>\n",
              "\n",
              "\n",
              "<div id=\"df-3f82f084-f1a6-46ce-bd86-5f7754ea0c3f\">\n",
              "  <button class=\"colab-df-quickchart\" onclick=\"quickchart('df-3f82f084-f1a6-46ce-bd86-5f7754ea0c3f')\"\n",
              "            title=\"Suggest charts\"\n",
              "            style=\"display:none;\">\n",
              "\n",
              "<svg xmlns=\"http://www.w3.org/2000/svg\" height=\"24px\"viewBox=\"0 0 24 24\"\n",
              "     width=\"24px\">\n",
              "    <g>\n",
              "        <path d=\"M19 3H5c-1.1 0-2 .9-2 2v14c0 1.1.9 2 2 2h14c1.1 0 2-.9 2-2V5c0-1.1-.9-2-2-2zM9 17H7v-7h2v7zm4 0h-2V7h2v10zm4 0h-2v-4h2v4z\"/>\n",
              "    </g>\n",
              "</svg>\n",
              "  </button>\n",
              "\n",
              "<style>\n",
              "  .colab-df-quickchart {\n",
              "      --bg-color: #E8F0FE;\n",
              "      --fill-color: #1967D2;\n",
              "      --hover-bg-color: #E2EBFA;\n",
              "      --hover-fill-color: #174EA6;\n",
              "      --disabled-fill-color: #AAA;\n",
              "      --disabled-bg-color: #DDD;\n",
              "  }\n",
              "\n",
              "  [theme=dark] .colab-df-quickchart {\n",
              "      --bg-color: #3B4455;\n",
              "      --fill-color: #D2E3FC;\n",
              "      --hover-bg-color: #434B5C;\n",
              "      --hover-fill-color: #FFFFFF;\n",
              "      --disabled-bg-color: #3B4455;\n",
              "      --disabled-fill-color: #666;\n",
              "  }\n",
              "\n",
              "  .colab-df-quickchart {\n",
              "    background-color: var(--bg-color);\n",
              "    border: none;\n",
              "    border-radius: 50%;\n",
              "    cursor: pointer;\n",
              "    display: none;\n",
              "    fill: var(--fill-color);\n",
              "    height: 32px;\n",
              "    padding: 0;\n",
              "    width: 32px;\n",
              "  }\n",
              "\n",
              "  .colab-df-quickchart:hover {\n",
              "    background-color: var(--hover-bg-color);\n",
              "    box-shadow: 0 1px 2px rgba(60, 64, 67, 0.3), 0 1px 3px 1px rgba(60, 64, 67, 0.15);\n",
              "    fill: var(--button-hover-fill-color);\n",
              "  }\n",
              "\n",
              "  .colab-df-quickchart-complete:disabled,\n",
              "  .colab-df-quickchart-complete:disabled:hover {\n",
              "    background-color: var(--disabled-bg-color);\n",
              "    fill: var(--disabled-fill-color);\n",
              "    box-shadow: none;\n",
              "  }\n",
              "\n",
              "  .colab-df-spinner {\n",
              "    border: 2px solid var(--fill-color);\n",
              "    border-color: transparent;\n",
              "    border-bottom-color: var(--fill-color);\n",
              "    animation:\n",
              "      spin 1s steps(1) infinite;\n",
              "  }\n",
              "\n",
              "  @keyframes spin {\n",
              "    0% {\n",
              "      border-color: transparent;\n",
              "      border-bottom-color: var(--fill-color);\n",
              "      border-left-color: var(--fill-color);\n",
              "    }\n",
              "    20% {\n",
              "      border-color: transparent;\n",
              "      border-left-color: var(--fill-color);\n",
              "      border-top-color: var(--fill-color);\n",
              "    }\n",
              "    30% {\n",
              "      border-color: transparent;\n",
              "      border-left-color: var(--fill-color);\n",
              "      border-top-color: var(--fill-color);\n",
              "      border-right-color: var(--fill-color);\n",
              "    }\n",
              "    40% {\n",
              "      border-color: transparent;\n",
              "      border-right-color: var(--fill-color);\n",
              "      border-top-color: var(--fill-color);\n",
              "    }\n",
              "    60% {\n",
              "      border-color: transparent;\n",
              "      border-right-color: var(--fill-color);\n",
              "    }\n",
              "    80% {\n",
              "      border-color: transparent;\n",
              "      border-right-color: var(--fill-color);\n",
              "      border-bottom-color: var(--fill-color);\n",
              "    }\n",
              "    90% {\n",
              "      border-color: transparent;\n",
              "      border-bottom-color: var(--fill-color);\n",
              "    }\n",
              "  }\n",
              "</style>\n",
              "\n",
              "  <script>\n",
              "    async function quickchart(key) {\n",
              "      const quickchartButtonEl =\n",
              "        document.querySelector('#' + key + ' button');\n",
              "      quickchartButtonEl.disabled = true;  // To prevent multiple clicks.\n",
              "      quickchartButtonEl.classList.add('colab-df-spinner');\n",
              "      try {\n",
              "        const charts = await google.colab.kernel.invokeFunction(\n",
              "            'suggestCharts', [key], {});\n",
              "      } catch (error) {\n",
              "        console.error('Error during call to suggestCharts:', error);\n",
              "      }\n",
              "      quickchartButtonEl.classList.remove('colab-df-spinner');\n",
              "      quickchartButtonEl.classList.add('colab-df-quickchart-complete');\n",
              "    }\n",
              "    (() => {\n",
              "      let quickchartButtonEl =\n",
              "        document.querySelector('#df-3f82f084-f1a6-46ce-bd86-5f7754ea0c3f button');\n",
              "      quickchartButtonEl.style.display =\n",
              "        google.colab.kernel.accessAllowed ? 'block' : 'none';\n",
              "    })();\n",
              "  </script>\n",
              "</div>\n",
              "    </div>\n",
              "  </div>\n"
            ]
          },
          "metadata": {},
          "execution_count": 54
        }
      ]
    },
    {
      "cell_type": "markdown",
      "source": [
        "3.3 Визначимо значення коефіцієнтів ваги `theta` ($\\vec{w}$) після навчання методом градієнтного спуску:"
      ],
      "metadata": {
        "id": "_4ecVxLoMZqM"
      }
    },
    {
      "cell_type": "code",
      "source": [
        "theta"
      ],
      "metadata": {
        "colab": {
          "base_uri": "https://localhost:8080/"
        },
        "id": "fT7AmGLpNP6D",
        "outputId": "6195ede6-36bb-4665-a02b-d98151ed0e35"
      },
      "execution_count": 88,
      "outputs": [
        {
          "output_type": "execute_result",
          "data": {
            "text/plain": [
              "array([[ 34.88210173],\n",
              "       [855.62228325],\n",
              "       [132.17464686],\n",
              "       [ 74.3600023 ]])"
            ]
          },
          "metadata": {},
          "execution_count": 88
        }
      ]
    },
    {
      "cell_type": "markdown",
      "source": [
        "3.4 Виконаємо розрахунок коефіцієнтів ваги ($\\vec{w}$) аналітичним методом:"
      ],
      "metadata": {
        "id": "IAsMtQd3NaqL"
      }
    },
    {
      "cell_type": "code",
      "source": [
        "theta_a = np.linalg.inv(X.T @ X) @ X.T @ y"
      ],
      "metadata": {
        "id": "oGx1G-p-NqDN"
      },
      "execution_count": 80,
      "outputs": []
    },
    {
      "cell_type": "markdown",
      "source": [
        "3.5 Визначимо значення коефіцієнтів ваги ($\\vec{w}$), знайдених аналітичним методом:"
      ],
      "metadata": {
        "id": "SC8WC0YMNvDE"
      }
    },
    {
      "cell_type": "code",
      "source": [
        "theta_a"
      ],
      "metadata": {
        "colab": {
          "base_uri": "https://localhost:8080/"
        },
        "id": "V31rvyskN7vF",
        "outputId": "73a56f38-1937-42af-b97a-369fbd6864da"
      },
      "execution_count": 81,
      "outputs": [
        {
          "output_type": "execute_result",
          "data": {
            "text/plain": [
              "array([[-1.73171608e+05],\n",
              "       [ 3.78762754e+02],\n",
              "       [ 4.06820034e+05],\n",
              "       [ 1.38604950e+06]])"
            ]
          },
          "metadata": {},
          "execution_count": 81
        }
      ]
    },
    {
      "cell_type": "markdown",
      "source": [
        "# 4. Порівняння результатів дослідження"
      ],
      "metadata": {
        "id": "Fd0rxZFCO4se"
      }
    },
    {
      "cell_type": "markdown",
      "source": [
        "4.1 Порівняємо значення коефіцієнтів ваги ($\\vec{w}$), отриманих шляхом навчання моделі методом градієнтного спуску (п. 3.3) та за допомогою аналітичного методоу (п. 3.5). Реалізуємо прогноз за допомогою функції гіпотези (п. 2.8) для `theta` та `theta_a`, також, використовуючи вектор вхідних параметрів `X`."
      ],
      "metadata": {
        "id": "BXJDdMiCPF61"
      }
    },
    {
      "cell_type": "code",
      "source": [
        "predict_gradient = hypothesis(theta, X)\n",
        "predict_analytic = hypothesis(theta_a, X)"
      ],
      "metadata": {
        "id": "nHionbzpP6zP"
      },
      "execution_count": 89,
      "outputs": []
    },
    {
      "cell_type": "markdown",
      "source": [
        "4.2 Виведемо результати на графік"
      ],
      "metadata": {
        "id": "2ulLF0eWQgft"
      }
    },
    {
      "cell_type": "code",
      "source": [
        "plt.figure(figsize=(15, 8))\n",
        "plt.title(\"Порівняння Лінійної регресії залежності параметрів будинків від їх ціни\")\n",
        "plt.xlabel(\"Ціна будинку\")\n",
        "plt.ylabel(\"Оцінювані параметри (площа, кількість спален, кількість санвузлів)\")\n",
        "\n",
        "plt.grid(True)\n",
        "plt.tight_layout()\n",
        "\n",
        "plt.scatter(y, X[:, 1],\n",
        "            label=\"Ціна\",\n",
        "            alpha=0.6)\n",
        "\n",
        "\n",
        "plt.scatter(predict_gradient,\n",
        "            X[:, 1],\n",
        "            label='Прогноз градієнтного спуску',\n",
        "            color='red')\n",
        "\n",
        "plt.scatter(predict_analytic,\n",
        "            X[:, 1],\n",
        "            label='Прогноз аналітичного методу',\n",
        "            color='brown')\n",
        "\n",
        "plt.legend()\n",
        "plt.show()"
      ],
      "metadata": {
        "colab": {
          "base_uri": "https://localhost:8080/",
          "height": 711
        },
        "id": "FMXGNeBsQlEb",
        "outputId": "f95cdaf5-264a-4a93-c3cb-8ae8c8c3faa7"
      },
      "execution_count": 90,
      "outputs": [
        {
          "output_type": "display_data",
          "data": {
            "text/plain": [
              "<Figure size 1500x800 with 1 Axes>"
            ],
            "image/png": "[encoded data removed]"
          },
          "metadata": {}
        }
      ]
    }
  ]
}